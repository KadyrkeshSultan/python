{
  "cells": [
    {
      "metadata": {},
      "cell_type": "markdown",
      "source": "## HomeWork1"
    },
    {
      "metadata": {},
      "cell_type": "markdown",
      "source": "### Вывести имя без лишних символов"
    },
    {
      "metadata": {
        "trusted": true
      },
      "cell_type": "code",
      "source": "###String\n\nimport re\nline=input()\nresult=re.compile(\"[^a-zA-Z]\")\nprint(result.sub(\"\",line))",
      "execution_count": null,
      "outputs": []
    },
    {
      "metadata": {},
      "cell_type": "markdown",
      "source": "### 1.2.22. Температура воздуха с учетом влияния ветра"
    },
    {
      "metadata": {
        "collapsed": true,
        "trusted": true
      },
      "cell_type": "code",
      "source": "#Temperature\n\nimport math\n\ndef func1(temp, speed):\n\n    if speed > 120 and speed < 3 or abs(temp) > 50:\n\n        print(\"No solution\")\n\n    else:\n\n        return 35.74 + 0.6215 * temp + (0.4275*temp - 45.75) * speed ** 0.16\n\n\ntemp = float(input(\"Enter please Temperature \"))\n\nspeed = float(input(\"Enter please Speed \"))\n\n\nprint(\"W = \", abs(func1(temp, speed)))",
      "execution_count": null,
      "outputs": []
    },
    {
      "metadata": {},
      "cell_type": "markdown",
      "source": "### Капитализация"
    },
    {
      "metadata": {
        "trusted": true
      },
      "cell_type": "code",
      "source": "#Capital\n\nfirstPay = float(input())\nmonthCount = int(input())\nmonthCapital = int(input())\npercent = float(input())\n\nn = monthCount / monthCapital\nmoney =  firstPay * (1 + (percent * monthCapital)/(365 * 100))**n\n\nprint(money)",
      "execution_count": null,
      "outputs": []
    },
    {
      "metadata": {},
      "cell_type": "markdown",
      "source": "### 1.2.32. Кривые дракона"
    },
    {
      "metadata": {
        "trusted": true
      },
      "cell_type": "code",
      "source": "#DragonFlow\n\ndragon0 = 'F'\nnogard0 = 'F'\ndragon1 = dragon0 + 'L' + nogard0\nnogard1 = dragon0 + 'R' + nogard0\ndragon2 = dragon1 + 'L' + nogard1\nnogard2 = dragon1 + 'R' + nogard1\ndragon3 = dragon2 + 'L' + nogard2\nnogard3 = dragon2 + 'R' + nogard2\ndragon4 = dragon3 + 'L' + nogard3\nnogard4 = dragon3 + 'R' + nogard3\ndragon5 = dragon4 + 'L' + nogard4\n\nprint(dragon0)\nprint(dragon1)\nprint(dragon2)\nprint(dragon3)\nprint(dragon4)\nprint(dragon5)",
      "execution_count": null,
      "outputs": []
    },
    {
      "metadata": {},
      "cell_type": "markdown",
      "source": "## HomeWork2"
    },
    {
      "metadata": {
        "trusted": true
      },
      "cell_type": "code",
      "source": "n = int(input(\"Input n: \"))\n\nfor i in range(1, n):\n    for j in range(1, n):\n        for k in range(1, n):\n            for l in range(1, n):\n                if(i != j and k != l and i != k):\n                    if(i**3 + j**3 == k**3 + l**3):\n                        print(i**3 + j**3)\n                    elif(i**3 + k**3 == j**3 + l**3):\n                        print(i**3 + k**3)",
      "execution_count": null,
      "outputs": []
    },
    {
      "metadata": {
        "trusted": true
      },
      "cell_type": "code",
      "source": "",
      "execution_count": null,
      "outputs": []
    }
  ],
  "metadata": {
    "kernelspec": {
      "name": "python36",
      "display_name": "Python 3.6",
      "language": "python"
    },
    "language_info": {
      "mimetype": "text/x-python",
      "nbconvert_exporter": "python",
      "name": "python",
      "pygments_lexer": "ipython3",
      "version": "3.6.6",
      "file_extension": ".py",
      "codemirror_mode": {
        "version": 3,
        "name": "ipython"
      }
    }
  },
  "nbformat": 4,
  "nbformat_minor": 2
}